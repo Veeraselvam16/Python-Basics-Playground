{
  "nbformat": 4,
  "nbformat_minor": 0,
  "metadata": {
    "colab": {
      "provenance": []
    },
    "kernelspec": {
      "name": "python3",
      "display_name": "Python 3"
    },
    "language_info": {
      "name": "python"
    }
  },
  "cells": [
    {
      "cell_type": "markdown",
      "source": [
        "**Q1]:- You are working in a bank, and you have been given two lists of the employees who worked in 2021.Employees’ names in list 1 are Ramesh, Suresh, Mahesh, Ali, Jacob, and Saritha. List 2 contains the names of Ali, Mukesh, Mahesh, Jacob, Sai, and Sarita. Please write a program that helps to identify people who are common in both lists. Please do not use any in-built function.**"
      ],
      "metadata": {
        "id": "4Sa3hWGEpBZn"
      }
    },
    {
      "cell_type": "code",
      "source": [
        "list1 = [\"Ramesh\", \"Suresh\", \"Mahesh\", \"Ali\", \"Jacob\", \"Saritha\"]\n",
        "list2 = [\"Ali\", \"Mukesh\", \"Mahesh\", \"Jacob\", \"Sai\", \"Sarita\"]\n",
        "\n",
        "common_employees = []\n",
        "\n",
        "for x in list1:\n",
        "  for y in list2:\n",
        "    if x == y:\n",
        "      common_employees.append(x)\n",
        "\n",
        "print(common_employees)"
      ],
      "metadata": {
        "id": "RJaZZ4dfpFP1",
        "colab": {
          "base_uri": "https://localhost:8080/"
        },
        "outputId": "11993336-b0f3-412b-b0ce-b5b1e0bbc5b7"
      },
      "execution_count": null,
      "outputs": [
        {
          "output_type": "stream",
          "name": "stdout",
          "text": [
            "['Mahesh', 'Ali', 'Jacob']\n"
          ]
        }
      ]
    },
    {
      "cell_type": "markdown",
      "source": [
        "**Q2]:- While entering data, someone entered a few names as a common string “Ramesh Suresh Mohit”. Please write a program which separates all the names and converts them into a list. Once converted into a list, please write a program that adds their age.**\n",
        "\n",
        "**Ramesh: 25**\n",
        "\n",
        "**Suresh: 22**\n",
        "\n",
        "**Mohit: 26**"
      ],
      "metadata": {
        "id": "X_sQ66ctpUhi"
      }
    },
    {
      "cell_type": "code",
      "source": [
        "name = 'Ramesh Suresh Mohit'\n",
        "list1 = name.split()\n",
        "print(list1)\n",
        "\n",
        "age = [25,22,26]\n",
        "\n",
        "name_age = dict(zip(list1,age))\n",
        "\n",
        "for key,value in name_age.items():\n",
        "  print(key,':',value)"
      ],
      "metadata": {
        "id": "yVLXVzYluZrt",
        "colab": {
          "base_uri": "https://localhost:8080/"
        },
        "outputId": "bab3fb18-692b-46c0-f359-82ee6c8e8b2e"
      },
      "execution_count": null,
      "outputs": [
        {
          "output_type": "stream",
          "name": "stdout",
          "text": [
            "['Ramesh', 'Suresh', 'Mohit']\n",
            "Ramesh : 25\n",
            "Suresh : 22\n",
            "Mohit : 26\n"
          ]
        }
      ]
    },
    {
      "cell_type": "markdown",
      "source": [
        "**Q3]:-You are working in a medical store. A patient came to your medical store and asked to buy 2 strips of paracetamol, 3 strips of azithromycin, and 5 strips of Vitamin C. One strip of paracetamol costs Rs 35, one strip of azithromycin costs Rs 49, and one strip of vitamin c costs Rs. 33. Patient gave you Rs 2000. Please tell us what is the total cost of each medicine, the total cost of all medicine, and how much money you refunded to the patient.**"
      ],
      "metadata": {
        "id": "aqfLXxv5pkNN"
      }
    },
    {
      "cell_type": "code",
      "source": [
        "Paracetamol  = 35 * 2\n",
        "Azithromycin = 49 * 3\n",
        "Vitamin_C    = 33 * 5\n",
        "\n",
        "print(f\"total cost of Paracetamol\\t :{Paracetamol}\")\n",
        "print(f\"total cost of Azithromycin\\t :{Azithromycin}\")\n",
        "print(f\"total cost of Vitamin_C \\t :{Vitamin_C}\")\n",
        "\n",
        "total_cost = Paracetamol + Azithromycin + Vitamin_C\n",
        "print(f\"total cost of all medicine\\t :{total_cost}\")\n",
        "\n",
        "taken = 2000\n",
        "given = taken - total_cost\n",
        "print(f\"money refunded to the patient\\t :{given}\")"
      ],
      "metadata": {
        "id": "e0wK6NSIuaj_",
        "colab": {
          "base_uri": "https://localhost:8080/"
        },
        "outputId": "9ae2c3f1-be8e-4588-86ab-409f214b3cfb"
      },
      "execution_count": null,
      "outputs": [
        {
          "output_type": "stream",
          "name": "stdout",
          "text": [
            "total cost of Paracetamol\t :70\n",
            "total cost of Azithromycin\t :147\n",
            "total cost of Vitamin_C \t :165\n",
            "total cost of all medicine\t :382\n",
            "money refunded to the patient\t :1618\n"
          ]
        }
      ]
    },
    {
      "cell_type": "markdown",
      "source": [
        "**Q4]:- Accept a sentence as input and find the number of vowels in it. Assume that the sentence has no punctuation marks. For example, I am learning python contains 6 vowels. This function should be applicable for all other different sentences.**"
      ],
      "metadata": {
        "id": "awHJBEwOplmq"
      }
    },
    {
      "cell_type": "code",
      "source": [
        "sentence = input()\n",
        "def vowels_count(sentence):\n",
        "  vowel = 'aeiouAEIOU'\n",
        "  v_count = 0\n",
        "\n",
        "  for x in sentence :\n",
        "    if x in vowel :\n",
        "      v_count = v_count + 1\n",
        "  print(f\"no of vowels : {v_count}\")"
      ],
      "metadata": {
        "id": "zRexX7ttucbi",
        "colab": {
          "base_uri": "https://localhost:8080/"
        },
        "outputId": "4b03cd06-8286-44b8-f9cf-fe1684c81516"
      },
      "execution_count": null,
      "outputs": [
        {
          "name": "stdout",
          "output_type": "stream",
          "text": [
            "I am learning python\n"
          ]
        }
      ]
    },
    {
      "cell_type": "code",
      "source": [
        "vowels_count(sentence)"
      ],
      "metadata": {
        "colab": {
          "base_uri": "https://localhost:8080/"
        },
        "id": "9gtOpTVRStWA",
        "outputId": "cd55128c-b776-4cfc-ffb2-de0fcde18a65"
      },
      "execution_count": null,
      "outputs": [
        {
          "output_type": "stream",
          "name": "stdout",
          "text": [
            "no of vowels : 6\n"
          ]
        }
      ]
    },
    {
      "cell_type": "markdown",
      "source": [
        "**Q5]:- You have been appointed by the election commission to create a website. Your first task is to work on a program which tells candidates if they are eligible for voting or not. If they are eligible, your output should be ‘Congrats! You are eligible’; otherwise, it should tell that you have to return after X number of years. The eligibility criteria for voting is 18 years.**\n",
        "\n",
        "**For example, If someone is 18 or above, your output should be ‘Congrats! You are eligible’. If someone’s age is 15 years, it should print output as ‘return after 3 years’.**"
      ],
      "metadata": {
        "id": "R5xDiZqwpmlc"
      }
    },
    {
      "cell_type": "code",
      "source": [
        "def vote(age):\n",
        "  if age >= 18:\n",
        "    print(\"Congrats! You are eligible\")\n",
        "  else:\n",
        "    print(f\"return after {18-age} years\")"
      ],
      "metadata": {
        "id": "84jFCzNDufDe"
      },
      "execution_count": null,
      "outputs": []
    },
    {
      "cell_type": "code",
      "source": [
        "vote(18)"
      ],
      "metadata": {
        "colab": {
          "base_uri": "https://localhost:8080/"
        },
        "id": "1fuXoZbhQYI0",
        "outputId": "aa18dc3a-4dfb-4bb9-bad2-f3116dff91d0"
      },
      "execution_count": null,
      "outputs": [
        {
          "output_type": "stream",
          "name": "stdout",
          "text": [
            "Congrats! You are eligible\n"
          ]
        }
      ]
    },
    {
      "cell_type": "markdown",
      "source": [
        "**Q6]:- Given a list of integers, find the cumulative sum of the elements of the list and store them in another list.**\n",
        "\n",
        "A = [1, 2, 3, 4, 5]\n",
        "\n",
        "\n",
        "**Output:**\n",
        "\n",
        "[1, 3, 6, 10, 15]"
      ],
      "metadata": {
        "id": "PlFhXqpLpnt8"
      }
    },
    {
      "cell_type": "code",
      "source": [
        "a = [1, 2, 3, 4, 5]\n",
        "num = 0\n",
        "\n",
        "cumulative_sum = []\n",
        "\n",
        "for x in a:\n",
        "  num = num + x\n",
        "  cumulative_sum.append(num)\n",
        "print(f\"cumulative_sum :- {cumulative_sum}\")"
      ],
      "metadata": {
        "id": "Ox2TrmWWuXx9",
        "colab": {
          "base_uri": "https://localhost:8080/"
        },
        "outputId": "8d55dd83-c5fe-48b8-a49e-d2f44e3ac715"
      },
      "execution_count": null,
      "outputs": [
        {
          "output_type": "stream",
          "name": "stdout",
          "text": [
            "cumulative_sum :- [1, 3, 6, 10, 15]\n"
          ]
        }
      ]
    }
  ]
}